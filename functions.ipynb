{
  "nbformat": 4,
  "nbformat_minor": 0,
  "metadata": {
    "colab": {
      "provenance": [],
      "authorship_tag": "ABX9TyOphHUzqwKRtZ4jPlf88uRJ",
      "include_colab_link": true
    },
    "kernelspec": {
      "name": "python3",
      "display_name": "Python 3"
    },
    "language_info": {
      "name": "python"
    }
  },
  "cells": [
    {
      "cell_type": "markdown",
      "metadata": {
        "id": "view-in-github",
        "colab_type": "text"
      },
      "source": [
        "<a href=\"https://colab.research.google.com/github/ommagdum/functions-from-zero/blob/main/functions.ipynb\" target=\"_parent\"><img src=\"https://colab.research.google.com/assets/colab-badge.svg\" alt=\"Open In Colab\"/></a>"
      ]
    },
    {
      "cell_type": "markdown",
      "source": [
        "### Styles Of Functions\n"
      ],
      "metadata": {
        "id": "KoYGS7NOf_zV"
      }
    },
    {
      "cell_type": "code",
      "execution_count": null,
      "metadata": {
        "id": "p1uRYo1ffy8x"
      },
      "outputs": [],
      "source": [
        "def simple():pass"
      ]
    },
    {
      "cell_type": "code",
      "source": [
        "def simple2():\n",
        "  print(\"Simple\")"
      ],
      "metadata": {
        "id": "fId9GfXegDsa"
      },
      "execution_count": 1,
      "outputs": []
    },
    {
      "cell_type": "code",
      "source": [
        "simple2()"
      ],
      "metadata": {
        "colab": {
          "base_uri": "https://localhost:8080/"
        },
        "id": "4ZGxM6RngOHa",
        "outputId": "9926e31f-b8d8-4a8e-86c5-b79ed602bcc1"
      },
      "execution_count": 2,
      "outputs": [
        {
          "output_type": "stream",
          "name": "stdout",
          "text": [
            "Simple\n"
          ]
        }
      ]
    },
    {
      "cell_type": "markdown",
      "source": [
        "### Most Useful\n"
      ],
      "metadata": {
        "id": "fwmEkHAMgaLK"
      }
    },
    {
      "cell_type": "code",
      "source": [
        "def my_worker(fruit):\n",
        "  statement = f\"My Favourite Meal Is Chicken and {fruit}\"\n",
        "  meals = {'dinner': statement}\n",
        "  return meals"
      ],
      "metadata": {
        "id": "lLIDZ5XrgPZ3"
      },
      "execution_count": 3,
      "outputs": []
    },
    {
      "cell_type": "code",
      "source": [
        "meal = my_worker(\"Apple\")"
      ],
      "metadata": {
        "id": "KjBY7gY4g4Py"
      },
      "execution_count": 4,
      "outputs": []
    },
    {
      "cell_type": "code",
      "source": [
        "type(meal)"
      ],
      "metadata": {
        "colab": {
          "base_uri": "https://localhost:8080/"
        },
        "id": "uXdXIwcUg9X_",
        "outputId": "7b40c64a-fd21-4d34-9f77-9f707fe4d74c"
      },
      "execution_count": 5,
      "outputs": [
        {
          "output_type": "execute_result",
          "data": {
            "text/plain": [
              "dict"
            ]
          },
          "metadata": {},
          "execution_count": 5
        }
      ]
    },
    {
      "cell_type": "code",
      "source": [
        "meal"
      ],
      "metadata": {
        "colab": {
          "base_uri": "https://localhost:8080/"
        },
        "id": "AsKfwFdUg_H-",
        "outputId": "dd4fbd7c-5463-4ee1-e37f-cefb24054f95"
      },
      "execution_count": 6,
      "outputs": [
        {
          "output_type": "execute_result",
          "data": {
            "text/plain": [
              "{'dinner': 'My Favourite Meal Is Chicken and Apple'}"
            ]
          },
          "metadata": {},
          "execution_count": 6
        }
      ]
    },
    {
      "cell_type": "code",
      "source": [
        "def human(food):\n",
        "  consume = food['dinner']\n",
        "  return consume"
      ],
      "metadata": {
        "id": "4YQ3oda_hCcl"
      },
      "execution_count": 9,
      "outputs": []
    },
    {
      "cell_type": "code",
      "source": [
        "my_meal = human(meal)\n",
        "print(f\"I want my meal. It will be : {my_meal} \")\n"
      ],
      "metadata": {
        "colab": {
          "base_uri": "https://localhost:8080/"
        },
        "id": "cNLrgP0zhGeg",
        "outputId": "6041b717-0e2d-4463-e43b-7e3fd67bed39"
      },
      "execution_count": 10,
      "outputs": [
        {
          "output_type": "stream",
          "name": "stdout",
          "text": [
            "I want my meal. It will be : My Favourite Meal Is Chicken and Apple \n"
          ]
        }
      ]
    },
    {
      "cell_type": "code",
      "source": [],
      "metadata": {
        "id": "AO4x9olQhl5G"
      },
      "execution_count": null,
      "outputs": []
    }
  ]
}